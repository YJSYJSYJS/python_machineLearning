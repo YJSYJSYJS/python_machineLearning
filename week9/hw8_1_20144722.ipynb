{
 "cells": [
  {
   "cell_type": "markdown",
   "metadata": {},
   "source": [
    "# 실습과제 8-1\n",
    " - 사이킷 런, KneighborsClassifier, MNIST\n",
    "   - 안돌아가면 load_digits 시도\n",
    " - hyperparameter - K=3 정도로 -> 3 포함 여러개 중에서 정확도 높은 최소 k 탐색"
   ]
  },
  {
   "cell_type": "code",
   "execution_count": 12,
   "metadata": {},
   "outputs": [],
   "source": [
    "from __future__ import print_function\n",
    "from sklearn.neighbors import KNeighborsClassifier\n",
    "from sklearn.metrics import classification_report\n",
    "from sklearn import datasets\n",
    "from skimage import exposure\n",
    "import numpy as np\n",
    "import imutils\n",
    "import cv2\n",
    "import sklearn"
   ]
  },
  {
   "cell_type": "code",
   "execution_count": 13,
   "metadata": {},
   "outputs": [],
   "source": [
    "if int((sklearn.__version__).split(\".\")[1])<18:\n",
    "    from sklearn.cross_validatio import train_test_split\n",
    "else: \n",
    "    from sklearn.model_selection import train_test_split\n",
    "    "
   ]
  },
  {
   "cell_type": "code",
   "execution_count": 14,
   "metadata": {},
   "outputs": [],
   "source": [
    "mnist = datasets.load_digits()"
   ]
  },
  {
   "cell_type": "code",
   "execution_count": 15,
   "metadata": {},
   "outputs": [
    {
     "output_type": "stream",
     "name": "stdout",
     "text": "training data points: 1212\nvalidation data points: 135\ntesting data points: 450\n"
    }
   ],
   "source": [
    "(trainData, testData, trainLabels, testLabels) = train_test_split(np.array(mnist.data), mnist.target, test_size=0.25, random_state=42)\n",
    "\n",
    "(trainData, valData, trainLabels, valLabels) = train_test_split(trainData, trainLabels, test_size=0.1, random_state=84)\n",
    "\n",
    "print(\"training data points: {}\".format(len(trainLabels)))\n",
    "print(\"validation data points: {}\".format(len(valLabels)))\n",
    "print(\"testing data points: {}\".format(len(testLabels)))"
   ]
  },
  {
   "cell_type": "code",
   "execution_count": 19,
   "metadata": {},
   "outputs": [
    {
     "output_type": "stream",
     "name": "stdout",
     "text": "k=1, accuracy=99.26%\nk=3, accuracy=99.26%\nk=5, accuracy=99.26%\nk=7, accuracy=99.26%\nk=9, accuracy=99.26%\nk=11, accuracy=99.26%\nk=13, accuracy=99.26%\nk=15, accuracy=99.26%\nk=17, accuracy=98.52%\nk=19, accuracy=98.52%\nk=21, accuracy=97.78%\nk=23, accuracy=97.04%\nk=25, accuracy=97.78%\nk=27, accuracy=97.04%\nk=29, accuracy=97.04%\nk=1 achieved highest accuracy of 99.26% on validation data\n"
    }
   ],
   "source": [
    "kVals = range(1, 30, 2)\n",
    "accuracies = []\n",
    "\n",
    "for k in range(1, 30, 2):\n",
    "    model = KNeighborsClassifier(n_neighbors = k)\n",
    "    model.fit(trainData, trainLabels)\n",
    "\n",
    "    score = model.score(valData, valLabels)\n",
    "    print(\"k=%d, accuracy=%.2f%%\" % (k, score*100))\n",
    "    accuracies.append(score)\n",
    "\n",
    "i = int(np.argmax(accuracies))\n",
    "print(\"k=%d achieved highest accuracy of %.2f%% on validation data\" % (kVals[i], accuracies[i] * 100))"
   ]
  },
  {
   "cell_type": "code",
   "execution_count": 20,
   "metadata": {},
   "outputs": [
    {
     "output_type": "stream",
     "name": "stdout",
     "text": "EVALUATION ON TESTING DATA\n              precision    recall  f1-score   support\n\n           0       1.00      1.00      1.00        43\n           1       0.95      1.00      0.97        37\n           2       1.00      1.00      1.00        38\n           3       0.98      0.98      0.98        46\n           4       0.98      0.98      0.98        55\n           5       0.98      1.00      0.99        59\n           6       1.00      1.00      1.00        45\n           7       1.00      0.98      0.99        41\n           8       0.97      0.95      0.96        38\n           9       0.96      0.94      0.95        48\n\n    accuracy                           0.98       450\n   macro avg       0.98      0.98      0.98       450\nweighted avg       0.98      0.98      0.98       450\n\n"
    }
   ],
   "source": [
    "model = KNeighborsClassifier(n_neighbors=kVals[i])\n",
    "model.fit(trainData, trainLabels)\n",
    "predictions = model.predict(testData)\n",
    "\n",
    "print(\"EVALUATION ON TESTING DATA\")\n",
    "print(classification_report(testLabels, predictions))"
   ]
  },
  {
   "cell_type": "code",
   "execution_count": 23,
   "metadata": {},
   "outputs": [
    {
     "output_type": "stream",
     "name": "stdout",
     "text": "I think that digit is: 5\nI think that digit is: 8\nI think that digit is: 2\nI think that digit is: 3\nI think that digit is: 3\n"
    }
   ],
   "source": [
    "for i in list(map(int, np.random.randint(0, high=len(testLabels), size=(5,)))):\n",
    "    image = testData[i]\n",
    "    prediction = model.predict(image.reshape(1, -1))[0]\n",
    "    \n",
    "    image = image.reshape((8, 8)).astype(\"uint8\")\n",
    "    image = exposure.rescale_intensity(image, out_range=(0, 255))\n",
    "    image = imutils.resize(image, width=32, inter=cv2.INTER_CUBIC)\n",
    "\n",
    "    print(\"I think that digit is: {}\".format(prediction))\n",
    "    cv2.imshow(\"Image\", image)\n",
    "    cv2.waitKey(0)"
   ]
  },
  {
   "cell_type": "code",
   "execution_count": null,
   "metadata": {},
   "outputs": [],
   "source": []
  }
 ],
 "metadata": {
  "language_info": {
   "codemirror_mode": {
    "name": "ipython",
    "version": 3
   },
   "file_extension": ".py",
   "mimetype": "text/x-python",
   "name": "python",
   "nbconvert_exporter": "python",
   "pygments_lexer": "ipython3",
   "version": "3.7.6-final"
  },
  "orig_nbformat": 2,
  "kernelspec": {
   "name": "python37364bitbaseconda5f45443dd7ea41a5835b4c0bbfa910f7",
   "display_name": "Python 3.7.3 64-bit ('base': conda)"
  }
 },
 "nbformat": 4,
 "nbformat_minor": 2
}