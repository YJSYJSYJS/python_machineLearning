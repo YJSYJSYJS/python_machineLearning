{
 "cells": [
  {
   "cell_type": "markdown",
   "metadata": {},
   "source": [
    "### text editor 를 이용해 다음 표의 내용을 csv파일로 작성"
   ]
  },
  {
   "cell_type": "markdown",
   "metadata": {},
   "source": [
    "|*country*|*population*|*area*|\n",
    "|:---|:---|:---|\n",
    "|South Korea|48422644|98480|\n",
    "|China|1330044000|9596960|\n",
    "|Japan|127288000|377835|\n",
    "|United States|310232863|9629091|\n",
    "|Russia|140702000|17100000|"
   ]
  },
  {
   "cell_type": "code",
   "execution_count": 27,
   "metadata": {},
   "outputs": [
    {
     "output_type": "stream",
     "name": "stdout",
     "text": "country  population      area\n0    South Korea    48422644     98480\n1          China  1330044000   9596960\n2          Japan   127288000    377835\n3  United States   310232863   9629091\n4         Russia   140702000  17100000\n"
    }
   ],
   "source": [
    "import pandas as pd\n",
    "\n",
    "df = pd.DataFrame({'country': ['South Korea', 'China', 'Japan', 'United States', 'Russia'], \\\n",
    "'population': [48422644, 1330044000, 127288000, 310232863, 140702000], \\\n",
    "'area': [98480, 9596960, 377835, 9629091, 17100000]})\n",
    "print(df)"
   ]
  },
  {
   "cell_type": "code",
   "execution_count": 29,
   "metadata": {},
   "outputs": [],
   "source": [
    "df.to_csv('./6_2.csv', sep=',', index= False)"
   ]
  },
  {
   "cell_type": "code",
   "execution_count": 36,
   "metadata": {},
   "outputs": [],
   "source": [
    "df2 = pd.read_csv('./6_2.csv')\n"
   ]
  },
  {
   "cell_type": "code",
   "execution_count": 37,
   "metadata": {},
   "outputs": [
    {
     "output_type": "stream",
     "name": "stdout",
     "text": "country  population      area  pop_den\n0    South Korea    48422644     98480      491\n1          China  1330044000   9596960      138\n2          Japan   127288000    377835      336\n3  United States   310232863   9629091       32\n4         Russia   140702000  17100000        8\n"
    }
   ],
   "source": [
    "df2['pop_den'] = 0\n",
    "for i in range(len(df2['population'])):\n",
    "    df2['pop_den'][i] = df2['population'][i]/df2['area'][i]\n",
    "\n",
    "print(df)"
   ]
  },
  {
   "cell_type": "code",
   "execution_count": 25,
   "metadata": {},
   "outputs": [
    {
     "output_type": "stream",
     "name": "stdout",
     "text": "['country', 'population', 'area']\n['South Korea', '48422644', '98480']\n['China', '1330044000', '9596960']\n['Japan', '127288000', '377835']\n['United States', '310232863', '9629091']\n['Russia', '140702000', '17100000']\n"
    }
   ],
   "source": [
    "df = pd.DataFrame"
   ]
  },
  {
   "cell_type": "code",
   "execution_count": 44,
   "metadata": {},
   "outputs": [
    {
     "output_type": "execute_result",
     "data": {
      "text/plain": "         country  population      area  pop_den\n0    South Korea    48422644     98480      491\n2          Japan   127288000    377835      336\n1          China  1330044000   9596960      138\n3  United States   310232863   9629091       32\n4         Russia   140702000  17100000        8",
      "text/html": "<div>\n<style scoped>\n    .dataframe tbody tr th:only-of-type {\n        vertical-align: middle;\n    }\n\n    .dataframe tbody tr th {\n        vertical-align: top;\n    }\n\n    .dataframe thead th {\n        text-align: right;\n    }\n</style>\n<table border=\"1\" class=\"dataframe\">\n  <thead>\n    <tr style=\"text-align: right;\">\n      <th></th>\n      <th>country</th>\n      <th>population</th>\n      <th>area</th>\n      <th>pop_den</th>\n    </tr>\n  </thead>\n  <tbody>\n    <tr>\n      <th>0</th>\n      <td>South Korea</td>\n      <td>48422644</td>\n      <td>98480</td>\n      <td>491</td>\n    </tr>\n    <tr>\n      <th>2</th>\n      <td>Japan</td>\n      <td>127288000</td>\n      <td>377835</td>\n      <td>336</td>\n    </tr>\n    <tr>\n      <th>1</th>\n      <td>China</td>\n      <td>1330044000</td>\n      <td>9596960</td>\n      <td>138</td>\n    </tr>\n    <tr>\n      <th>3</th>\n      <td>United States</td>\n      <td>310232863</td>\n      <td>9629091</td>\n      <td>32</td>\n    </tr>\n    <tr>\n      <th>4</th>\n      <td>Russia</td>\n      <td>140702000</td>\n      <td>17100000</td>\n      <td>8</td>\n    </tr>\n  </tbody>\n</table>\n</div>"
     },
     "metadata": {},
     "execution_count": 44
    }
   ],
   "source": [
    "df2 = df2.sort_values(by=['pop_den'], axis=0, ascending=False)\n",
    "df2"
   ]
  },
  {
   "cell_type": "code",
   "execution_count": 51,
   "metadata": {},
   "outputs": [
    {
     "output_type": "execute_result",
     "data": {
      "text/plain": "         country  pop_den\n0    South Korea      491\n2          Japan      336\n1          China      138\n3  United States       32\n4         Russia        8",
      "text/html": "<div>\n<style scoped>\n    .dataframe tbody tr th:only-of-type {\n        vertical-align: middle;\n    }\n\n    .dataframe tbody tr th {\n        vertical-align: top;\n    }\n\n    .dataframe thead th {\n        text-align: right;\n    }\n</style>\n<table border=\"1\" class=\"dataframe\">\n  <thead>\n    <tr style=\"text-align: right;\">\n      <th></th>\n      <th>country</th>\n      <th>pop_den</th>\n    </tr>\n  </thead>\n  <tbody>\n    <tr>\n      <th>0</th>\n      <td>South Korea</td>\n      <td>491</td>\n    </tr>\n    <tr>\n      <th>2</th>\n      <td>Japan</td>\n      <td>336</td>\n    </tr>\n    <tr>\n      <th>1</th>\n      <td>China</td>\n      <td>138</td>\n    </tr>\n    <tr>\n      <th>3</th>\n      <td>United States</td>\n      <td>32</td>\n    </tr>\n    <tr>\n      <th>4</th>\n      <td>Russia</td>\n      <td>8</td>\n    </tr>\n  </tbody>\n</table>\n</div>"
     },
     "metadata": {},
     "execution_count": 51
    }
   ],
   "source": [
    "df_country_pop_den = df2.loc[:,['country', 'pop_den']]\n",
    "df_country_pop_den"
   ]
  },
  {
   "cell_type": "markdown",
   "metadata": {},
   "source": [
    "## csv 모듈 사용"
   ]
  },
  {
   "cell_type": "code",
   "execution_count": 100,
   "metadata": {},
   "outputs": [],
   "source": [
    "import csv"
   ]
  },
  {
   "cell_type": "code",
   "execution_count": 101,
   "metadata": {},
   "outputs": [],
   "source": [
    "f1 = open('./6_2_by_csv.csv', 'w', newline='')\n",
    "wr = csv.writer(f1)"
   ]
  },
  {
   "cell_type": "code",
   "execution_count": 102,
   "metadata": {},
   "outputs": [
    {
     "output_type": "execute_result",
     "data": {
      "text/plain": "27"
     },
     "metadata": {},
     "execution_count": 102
    }
   ],
   "source": [
    "wr.writerow(['country', 'population', 'area'])\n",
    "wr.writerow(['South Korea', 48422644, 98480])\n",
    "wr.writerow(['China', 1330044000, 9596960])\n",
    "wr.writerow(['Japan', 127288000, 377835])\n",
    "wr.writerow(['United States', 310232863, 9629091])\n",
    "wr.writerow(['Russia', 140702000, 17100000])"
   ]
  },
  {
   "cell_type": "code",
   "execution_count": 103,
   "metadata": {},
   "outputs": [],
   "source": [
    "f1.close()"
   ]
  },
  {
   "cell_type": "code",
   "execution_count": 128,
   "metadata": {},
   "outputs": [],
   "source": [
    "import pprint\n",
    "\n",
    "f2 = open('./6_2_by_csv.csv', 'r')\n",
    "\n",
    "rd = csv.reader(f2)"
   ]
  },
  {
   "cell_type": "code",
   "execution_count": 129,
   "metadata": {},
   "outputs": [],
   "source": [
    "pop_dens = dict()\n",
    "for row in rd:\n",
    "    if row[1].isnumeric()==False:\n",
    "        continue\n",
    "    pop_dens[row[0]] = int(row[1])/int(row[2])\n",
    "    \n",
    "    "
   ]
  },
  {
   "cell_type": "code",
   "execution_count": 130,
   "metadata": {},
   "outputs": [
    {
     "output_type": "execute_result",
     "data": {
      "text/plain": "{'South Korea': 491.7002843216897,\n 'China': 138.5901368766776,\n 'Japan': 336.88779493694335,\n 'United States': 32.218291736987425,\n 'Russia': 8.228187134502924}"
     },
     "metadata": {},
     "execution_count": 130
    }
   ],
   "source": [
    "pop_dens"
   ]
  },
  {
   "cell_type": "code",
   "execution_count": 133,
   "metadata": {},
   "outputs": [
    {
     "output_type": "execute_result",
     "data": {
      "text/plain": "[('South Korea', 491.7002843216897),\n ('Japan', 336.88779493694335),\n ('China', 138.5901368766776),\n ('United States', 32.218291736987425),\n ('Russia', 8.228187134502924)]"
     },
     "metadata": {},
     "execution_count": 133
    }
   ],
   "source": [
    "sorted(pop_dens.items(), key = lambda x: x[1], reverse=True)"
   ]
  },
  {
   "cell_type": "code",
   "execution_count": null,
   "metadata": {},
   "outputs": [],
   "source": []
  }
 ],
 "metadata": {
  "language_info": {
   "codemirror_mode": {
    "name": "ipython",
    "version": 3
   },
   "file_extension": ".py",
   "mimetype": "text/x-python",
   "name": "python",
   "nbconvert_exporter": "python",
   "pygments_lexer": "ipython3",
   "version": "3.7.6-final"
  },
  "orig_nbformat": 2,
  "kernelspec": {
   "name": "python37364bitbaseconda5f45443dd7ea41a5835b4c0bbfa910f7",
   "display_name": "Python 3.7.3 64-bit ('base': conda)"
  }
 },
 "nbformat": 4,
 "nbformat_minor": 2
}